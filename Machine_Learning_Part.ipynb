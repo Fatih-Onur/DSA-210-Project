{
  "nbformat": 4,
  "nbformat_minor": 0,
  "metadata": {
    "colab": {
      "provenance": [],
      "mount_file_id": "1x901GnRPerjqtwwTSG31pLcnqEOp5Qjh",
      "authorship_tag": "ABX9TyMVdTLM2eQMiArOo+fLFqyE",
      "include_colab_link": true
    },
    "kernelspec": {
      "name": "python3",
      "display_name": "Python 3"
    },
    "language_info": {
      "name": "python"
    }
  },
  "cells": [
    {
      "cell_type": "markdown",
      "metadata": {
        "id": "view-in-github",
        "colab_type": "text"
      },
      "source": [
        "<a href=\"https://colab.research.google.com/github/Fatih-Onur/DSA-210-Project/blob/main/Machine_Learning_Part.ipynb\" target=\"_parent\"><img src=\"https://colab.research.google.com/assets/colab-badge.svg\" alt=\"Open In Colab\"/></a>"
      ]
    },
    {
      "cell_type": "markdown",
      "source": [
        "# ⚽ Predicting Football Team Performance using Machine Learning\n",
        "\n",
        "##  Project Description\n",
        "In this project, we aim to predict the number of points a football team will earn in the following season by applying regression models to a comprehensive set of team-based performance and context variables.\n",
        "\n",
        "Rather than relying on a limited number of hand-selected features, we will use **all available variables** in the dataset. The goal is to allow the model to learn complex relationships and automatically determine which features are truly informative.\n",
        "\n",
        "This approach reflects a data-driven methodology where **feature importance and selection will be guided by model performance**, rather than manual assumptions.\n",
        "\n",
        "##  Objective\n",
        "To build and evaluate multiple regression models that predict the next season’s point total for each football team using the full feature set. Throughout the process, we aim to:\n",
        "\n",
        "- Identify which features are most predictive of future performance.\n",
        "- Evaluate and compare models based on metrics such as R², MAE, and RMSE.\n",
        "- Achieve the highest possible R² score by leveraging both strong features and regularization techniques.\n",
        "\n",
        "##  Dataset Description\n",
        "The dataset includes a wide variety of numerical and possibly categorical features related to team performance, financials, squad composition, and seasonal outcomes.\n",
        "\n",
        "Each row in the dataset represents a single team-season instance, and includes the following (among others):\n",
        "\n",
        "- `This_Year_Points`: Points earned in the current season\n",
        "- `Net_Profit`: Transfer balance during that season\n",
        "- `Next_Year_Points`: The actual number of points earned by the team in the following season (target variable)\n",
        "\n",
        "Additional features may include: goal difference, win/draw/loss stats, average squad age, manager change indicators, and more.\n",
        "\n",
        "##  Table of Contents\n",
        "\n",
        "1. [Data Loading and Overview](#1-data-loading-and-overview)\n",
        "2. [Feature Scaling and Preparation](#2-feature-scaling-and-preparation)\n",
        "3. [Model Training](#3-model-training)\n",
        "4. [Model Evaluation](#4-model-evaluation)\n",
        "5. [Conclusion](#5-summary-and-conclusion)\n",
        "\n"
      ],
      "metadata": {
        "id": "G7zpl0snDgV-"
      }
    },
    {
      "cell_type": "code",
      "source": [
        "import pandas as pd\n",
        "from google.colab import files\n",
        "\n",
        "# 1. Dosyaları yükle\n",
        "success_df = pd.read_csv(\"/content/drive/MyDrive/DSA_210/success_guncel.csv\")\n",
        "expenditure_df = pd.read_csv(\"/content/drive/MyDrive/DSA_210/expenditure_clean.csv\")\n",
        "\n",
        "# 2. Gereksiz sütunlar\n",
        "drop_cols = [\"club abbrevation\", \"#\", \"TeamID\", \"Position\", \"Matches Played\"]\n",
        "success_df.drop(columns=[col for col in drop_cols if col in success_df.columns], inplace=True)\n",
        "\n",
        "# 3. Hedef değişkeni oluştur: Next_Year_Points\n",
        "next_year_points = success_df[[\"Year\", \"Club\", \"Points\"]].copy()\n",
        "next_year_points[\"Year\"] -= 1\n",
        "next_year_points.rename(columns={\"Points\": \"Next_Year_Points\"}, inplace=True)\n",
        "\n",
        "# 4. Expenditure verisini +1 kaydır (2024 harcaması 2025'e etkiler)\n",
        "expenditure_df[\"Year\"] += 1\n",
        "\n",
        "# 5. Performans ve transfer verilerini birleştir\n",
        "combined = pd.merge(success_df, expenditure_df, on=[\"Year\", \"Club\"], how=\"inner\")\n",
        "\n",
        "# 6. Next_Year_Points ile birleştir\n",
        "final = pd.merge(combined, next_year_points, on=[\"Year\", \"Club\"], how=\"inner\")\n",
        "\n",
        "# 7. Prefix ekle (Year, Club, Next_Year_Points hariç)\n",
        "cols_to_prefix = [col for col in final.columns if col not in [\"Year\", \"Club\", \"Next_Year_Points\"]]\n",
        "final.rename(columns={col: f\"This_Year_{col}\" for col in cols_to_prefix}, inplace=True)\n",
        "\n",
        "# 8. Sütun sırası\n",
        "final = final[[\"Year\", \"Club\"] + sorted([c for c in final.columns if c.startswith(\"This_Year_\")]) + [\"Next_Year_Points\"]]\n",
        "\n",
        "# 9. Kaydet\n",
        "final.to_csv(\"ml_dataset_final_cleaned.csv\", index=False)\n",
        "files.download(\"ml_dataset_final_cleaned.csv\")\n"
      ],
      "metadata": {
        "colab": {
          "base_uri": "https://localhost:8080/",
          "height": 17
        },
        "id": "kx4lWjMkEk3F",
        "outputId": "9d83818a-4e3f-4099-8992-32644a8c9a7d"
      },
      "execution_count": null,
      "outputs": [
        {
          "output_type": "display_data",
          "data": {
            "text/plain": [
              "<IPython.core.display.Javascript object>"
            ],
            "application/javascript": [
              "\n",
              "    async function download(id, filename, size) {\n",
              "      if (!google.colab.kernel.accessAllowed) {\n",
              "        return;\n",
              "      }\n",
              "      const div = document.createElement('div');\n",
              "      const label = document.createElement('label');\n",
              "      label.textContent = `Downloading \"${filename}\": `;\n",
              "      div.appendChild(label);\n",
              "      const progress = document.createElement('progress');\n",
              "      progress.max = size;\n",
              "      div.appendChild(progress);\n",
              "      document.body.appendChild(div);\n",
              "\n",
              "      const buffers = [];\n",
              "      let downloaded = 0;\n",
              "\n",
              "      const channel = await google.colab.kernel.comms.open(id);\n",
              "      // Send a message to notify the kernel that we're ready.\n",
              "      channel.send({})\n",
              "\n",
              "      for await (const message of channel.messages) {\n",
              "        // Send a message to notify the kernel that we're ready.\n",
              "        channel.send({})\n",
              "        if (message.buffers) {\n",
              "          for (const buffer of message.buffers) {\n",
              "            buffers.push(buffer);\n",
              "            downloaded += buffer.byteLength;\n",
              "            progress.value = downloaded;\n",
              "          }\n",
              "        }\n",
              "      }\n",
              "      const blob = new Blob(buffers, {type: 'application/binary'});\n",
              "      const a = document.createElement('a');\n",
              "      a.href = window.URL.createObjectURL(blob);\n",
              "      a.download = filename;\n",
              "      div.appendChild(a);\n",
              "      a.click();\n",
              "      div.remove();\n",
              "    }\n",
              "  "
            ]
          },
          "metadata": {}
        },
        {
          "output_type": "display_data",
          "data": {
            "text/plain": [
              "<IPython.core.display.Javascript object>"
            ],
            "application/javascript": [
              "download(\"download_742bf5db-7be4-4290-971e-a7a649b82d1a\", \"ml_dataset_final_cleaned.csv\", 12805)"
            ]
          },
          "metadata": {}
        }
      ]
    },
    {
      "cell_type": "code",
      "source": [
        "import pandas as pd\n",
        "df = pd.read_csv(\"/content/drive/MyDrive/DSA_210/final_merged_club_data.csv\")\n",
        "\n",
        "# first 5 lines.\n",
        "print(df.head())\n"
      ],
      "metadata": {
        "colab": {
          "base_uri": "https://localhost:8080/"
        },
        "id": "G5KLqEbrPJVD",
        "outputId": "027473b2-3ac3-4a42-e050-be4d4c13a845"
      },
      "execution_count": null,
      "outputs": [
        {
          "output_type": "stream",
          "name": "stdout",
          "text": [
            "   Year                     Club  Expenditure  Arrivals  Income  Departures  \\\n",
            "0  2024              Aston Villa        214.2        25  257.17          25   \n",
            "1  2024               Chelsea FC        276.0        38  228.90          32   \n",
            "2  2024          Manchester City        243.0        15  141.00          13   \n",
            "3  2024  Wolverhampton Wanderers        124.4        23  116.20          16   \n",
            "4  2024        Manchester United        246.3        18  103.00          19   \n",
            "\n",
            "   Balance  Wins  Draws  Lose  Goals scored  Goals conceded  +/-  Points  \\\n",
            "0    42.97    20      8    10            76              61   15      68   \n",
            "1   -47.10    18      9    11            77              63   14      63   \n",
            "2  -102.00    28      7     3            96              34   62      91   \n",
            "3    -8.21    13      7    18            50              65  -15      46   \n",
            "4  -143.30    18      6    14            57              58   -1      60   \n",
            "\n",
            "   Next_Season_Points  \n",
            "0                  66  \n",
            "1                  69  \n",
            "2                  71  \n",
            "3                  42  \n",
            "4                  42  \n"
          ]
        }
      ]
    },
    {
      "cell_type": "markdown",
      "source": [
        "## 1. Data Loading and Overview\n",
        "\n",
        "The dataset was created by merging two sources of information:\n",
        "\n",
        "-  **Seasonal Performance Data**: This includes each team's league performance statistics such as wins, draws, goals scored/conceded, and total points.\n",
        "-  **Transfer Spending Data**: This contains financial metrics like transfer expenditure, income, net balance, and number of arrivals/departures.\n",
        "\n",
        "To align these two sources, we matched each team's seasonal data with its financial data for the **same year**. Then, in order to predict the performance of a team in the **next season**, we shifted the `Points` column forward by one year and assigned it as the target variable named `Next_Season_Points`.\n",
        "\n",
        "###  Final Dataset Features\n",
        "\n",
        "Each row in the dataset represents a unique **team-season** instance and includes:\n",
        "\n",
        "- `Expenditure`: Total money spent on incoming transfers  \n",
        "- `Income`: Total money earned from outgoing transfers  \n",
        "- `Balance`: Net profit or loss from the transfer window  \n",
        "- `Wins`, `Draws`, `Lose`: Match results for the season  \n",
        "- `Goals scored`, `Goals conceded`, `+/-`: Goal statistics  \n",
        "- `Points`: Total points earned in the **current** season  \n",
        "- `Next_Season_Points`: Target variable – points earned by the same team in the **following** season"
      ],
      "metadata": {
        "id": "QBBnXDj-J_hB"
      }
    },
    {
      "cell_type": "markdown",
      "source": [
        "## 2. Data Preprocessing\n",
        "\n",
        "In this step, we prepare our data for modeling.\n",
        "\n",
        "- We separate the features (`X`) from the target variable (`y`).\n",
        "- We apply feature scaling using `StandardScaler` to normalize the numerical features.\n",
        "- Finally, we split the dataset into training and testing sets to evaluate our model on unseen data.\n"
      ],
      "metadata": {
        "id": "RoOaGziXWujp"
      }
    },
    {
      "cell_type": "code",
      "source": [
        "#  Import required libraries\n",
        "import pandas as pd\n",
        "from sklearn.model_selection import train_test_split\n",
        "from sklearn.preprocessing import StandardScaler\n",
        "\n",
        "#  Load the dataset\n",
        "df = pd.read_csv(\"/content/drive/MyDrive/DSA_210/final_merged_club_data.csv\")\n",
        "\n",
        "#  Define target and drop unnecessary columns\n",
        "target_column = \"Next_Season_Points\"\n",
        "drop_columns = [\"Year\", \"Club\", \"Next_Season_Points\"]\n",
        "\n",
        "#  Feature matrix (X) and target vector (y)\n",
        "X = df.drop(columns=drop_columns)\n",
        "y = df[target_column]\n",
        "\n",
        "#  Split into train and test sets (80/20)\n",
        "X_train, X_test, y_train, y_test = train_test_split(\n",
        "    X, y, test_size=0.2, random_state=42\n",
        ")\n",
        "\n",
        "#  Standardize the feature data\n",
        "scaler = StandardScaler()\n",
        "X_train_scaled = scaler.fit_transform(X_train)\n",
        "X_test_scaled = scaler.transform(X_test)\n",
        "\n",
        "#  Output shapes\n",
        "print(\"X_train shape:\", X_train_scaled.shape)\n",
        "print(\"X_test shape:\", X_test_scaled.shape)\n",
        "print(\"y_train shape:\", y_train.shape)\n",
        "print(\"y_test shape:\", y_test.shape)\n"
      ],
      "metadata": {
        "colab": {
          "base_uri": "https://localhost:8080/"
        },
        "id": "vCR1bl5xW7Kq",
        "outputId": "788e76cb-96bd-49f9-99cb-6fa199d46a34"
      },
      "execution_count": null,
      "outputs": [
        {
          "output_type": "stream",
          "name": "stdout",
          "text": [
            "X_train shape: (121, 12)\n",
            "X_test shape: (31, 12)\n",
            "y_train shape: (121,)\n",
            "y_test shape: (31,)\n"
          ]
        }
      ]
    },
    {
      "cell_type": "markdown",
      "source": [
        "## 3. Model Training\n",
        "\n",
        "In this stage, we build and train several regression models to predict the number of points a football team will earn in the next season. Using the fully processed dataset, our goal is to explore the effectiveness of different algorithms in capturing the relationships between team statistics and future performance.\n",
        "\n",
        "Instead of relying on a single approach, we implement multiple regression techniques to compare their prediction accuracy and generalization capabilities.\n",
        "\n",
        "### 🔍 Models Used:\n",
        "\n",
        "- **Linear Regression**: A simple baseline model that assumes a linear relationship between input features and the target.\n",
        "- **K-Nearest Neighbors Regressor (KNN)**: A non-parametric method that predicts the output based on the average of the closest data points.\n",
        "- **Decision Tree Regressor**:\n",
        "A tree-based model that recursively splits the data based on feature values to predict the target variable.\n",
        "- **Random Forest Regressor**:\n",
        "An ensemble method that builds multiple decision trees and combines their outputs for more robust predictions.\n",
        "- **XGBoost Regressor**:\n",
        "An advanced boosting technique that combines multiple trees sequentially, each one correcting the mistakes of the previous, to maximize predictive power.\n",
        "\n",
        "Each model will be trained using the training set and evaluated on the test set. We will compare them using standard regression evaluation metrics such as:\n",
        "\n",
        "- **R² Score**: Indicates how well the model explains the variance in the target variable.\n",
        "- **MSE (Mean Square Error)**: This will indicate how much points will this model, our ML mode, will give an error of approximetely, but square of it for better understanding. Its name is self explanotary actually. I know this concept from Math 306 class and learned its implementation from Chatgpt I hope it is okey- I added this because it shows how much is the error really rather than a meaningless statistics.\n",
        "\n",
        "In the following cells, we will fit each model, make predictions, and assess their performance."
      ],
      "metadata": {
        "id": "OiAduk3FXDWR"
      }
    },
    {
      "cell_type": "markdown",
      "source": [
        "### 3.1 Linear Regression\n",
        "\n",
        "As our baseline model, we will begin with **Linear Regression**.  \n",
        "This method assumes a **linear relationship** between the input features and the target variable.  \n",
        "Despite its simplicity, Linear Regression often provides a strong starting point for understanding data patterns and establishing a benchmark.\n",
        "\n",
        "We will train this model using **all available features** and evaluate it based on:\n",
        "\n",
        "- **R² Score:** How much of the variance in the target variable can be explained by the model.  \n",
        "- **MSE (Mean Square Error):** Square root of Error.\n",
        "- **RMSE (Root Mean Square Error):** How much our model actually missing about its guesses about next season points. simply calculated as square root of MSE.\n",
        "\n",
        "Let’s implement this model!\n"
      ],
      "metadata": {
        "id": "FTuAFoiltSTl"
      }
    },
    {
      "cell_type": "code",
      "source": [
        "#  Linear Regression (MSE and R² only)\n",
        "from sklearn.linear_model import LinearRegression\n",
        "from sklearn.metrics import r2_score, mean_squared_error\n",
        "\n",
        "# Initialize the model\n",
        "lr = LinearRegression()\n",
        "\n",
        "# Train the model\n",
        "lr.fit(X_train_scaled, y_train)\n",
        "\n",
        "# Predict on the test set\n",
        "y_pred_lr = lr.predict(X_test_scaled)\n",
        "\n",
        "# Calculate metrics\n",
        "r2_lr = r2_score(y_test, y_pred_lr)\n",
        "mse_lr = mean_squared_error(y_test, y_pred_lr)\n",
        "\n",
        "print(\"🔍 Linear Regression Performance:\")\n",
        "print(f\"R² Score : {r2_lr:.4f}\")\n",
        "print(f\"MSE      : {mse_lr:.2f}\")\n"
      ],
      "metadata": {
        "colab": {
          "base_uri": "https://localhost:8080/"
        },
        "id": "a5ZB1FfHthnp",
        "outputId": "2118e339-6645-427f-da81-b6f019b7ede8"
      },
      "execution_count": null,
      "outputs": [
        {
          "output_type": "stream",
          "name": "stdout",
          "text": [
            "🔍 Linear Regression Performance:\n",
            "R² Score : 0.7569\n",
            "MSE      : 87.30\n"
          ]
        }
      ]
    },
    {
      "cell_type": "markdown",
      "source": [
        "#### - Linear Regression Evaluation\n",
        "\n",
        "The **Linear Regression** model achieved an **R² score of 0.7569**, indicating that approximately **75.69% of the variance** in the target variable can be explained by the model.\n",
        "\n",
        "The **Mean Squared Error (MSE)** was calculated as **87.30**, representing the **average of the squared differences** between the model’s predictions and the actual values.\n",
        "\n",
        "To better interpret this, we also compute the **Root Mean Squared Error (RMSE)** by taking the square root of MSE:\n",
        "\n",
        "- **RMSE** directly tells us the **average prediction error in the same units as the target** (in this case, points).\n",
        "- It was calculated as **9.34**, meaning that, on average, the model’s predictions deviate from the true values by approximately **9.34 points**.\n",
        "\n",
        "This provides a **clear and intuitive** measure of how accurate the model is in predicting next-season points.\n"
      ],
      "metadata": {
        "id": "UoYKVNPXuBWQ"
      }
    },
    {
      "cell_type": "markdown",
      "source": [
        "---\n",
        "###  Feature Selection: Removing Balance and `+/-`\n",
        "\n",
        "Before training our other models, we decided to remove two features:\n",
        "\n",
        "- **Balance**: This feature represents the net profit or loss from transfers. However, it is essentially the difference between **Income** and **Expenditure**, which are already included in the dataset. Keeping all three might introduce redundancy and multicollinearity.\n",
        "\n",
        "- **+/-**: This represents the **goal difference** (goals scored - goals conceded). Since we already have both **Goals scored** and **Goals conceded** as separate features, including the **+/-** column would also create duplication and multicollinearity.\n",
        "\n",
        "By removing these two features, we aim to:\n",
        "\n",
        "- **Reduce redundancy** in the dataset  \n",
        "- **Improve the interpretability** of the linear model  \n",
        "- **Potentially increase the R² score** by reducing noise from overlapping information\n",
        "\n",
        "Let’s re-train the Linear Regression model with this optimized feature set and check if there’s an improvement in the performance metrics!\n"
      ],
      "metadata": {
        "id": "F4douzXc0HpT"
      }
    },
    {
      "cell_type": "code",
      "source": [
        "#  Remove 'Balance' and '+/-' features\n",
        "drop_columns = [\"Year\", \"Club\", \"Next_Season_Points\", \"Balance\", \"+/-\"]\n",
        "X_reduced = df.drop(columns=drop_columns)\n",
        "y = df[\"Next_Season_Points\"]\n",
        "\n",
        "#  Train-test split\n",
        "from sklearn.model_selection import train_test_split\n",
        "X_train, X_test, y_train, y_test = train_test_split(\n",
        "    X_reduced, y, test_size=0.2, random_state=42\n",
        ")\n",
        "\n",
        "#  Standardize\n",
        "from sklearn.preprocessing import StandardScaler\n",
        "scaler = StandardScaler()\n",
        "X_train_scaled = scaler.fit_transform(X_train)\n",
        "X_test_scaled = scaler.transform(X_test)\n",
        "\n",
        "#  Linear Regression (with reduced features)\n",
        "from sklearn.linear_model import LinearRegression\n",
        "from sklearn.metrics import r2_score, mean_squared_error\n",
        "import numpy as np\n",
        "\n",
        "lr = LinearRegression()\n",
        "lr.fit(X_train_scaled, y_train)\n",
        "y_pred_lr = lr.predict(X_test_scaled)\n",
        "\n",
        "r2_lr = r2_score(y_test, y_pred_lr)\n",
        "mse_lr = mean_squared_error(y_test, y_pred_lr)\n",
        "rmse_lr = np.sqrt(mse_lr)\n",
        "\n",
        "print(\" Linear Regression Performance (Reduced Features):\")\n",
        "print(f\"R² Score : {r2_lr:.4f}\")\n",
        "print(f\"MSE      : {mse_lr:.2f}\")\n",
        "print(f\"RMSE     : {rmse_lr:.2f}\")\n"
      ],
      "metadata": {
        "colab": {
          "base_uri": "https://localhost:8080/"
        },
        "id": "T-l8aTtJ0WTs",
        "outputId": "7005c808-1fee-4195-8bc3-fb6f356975e7"
      },
      "execution_count": null,
      "outputs": [
        {
          "output_type": "stream",
          "name": "stdout",
          "text": [
            "🔍 Linear Regression Performance (Reduced Features):\n",
            "R² Score : 0.7558\n",
            "MSE      : 87.69\n",
            "RMSE     : 9.36\n"
          ]
        }
      ]
    },
    {
      "cell_type": "markdown",
      "source": [
        "####  Linear Regression Evaluation (After Feature Reduction)\n",
        "\n",
        "After removing the **Balance** and **+/-** features, the **Linear Regression** model achieved an **R² score of 0.7558**, which is nearly the same as the previous performance with all features (0.7569).  \n",
        "This suggests that these two features did not significantly contribute to explaining the variance in the target variable.\n",
        "\n",
        "The **MSE** was **87.69**, and the **RMSE** was **9.36**, indicating that the model's predictions have an average error of about **9.36 points**.\n",
        "\n",
        "In summary, removing these two redundant features:\n",
        "\n",
        "- Helped reduce repetition in the dataset and reduced unnecessary columns.  \n",
        "- Maintained the predictive power of the model.\n",
        "- Made the model simpler and easier to interpret.\n",
        "\n",
        "This sets the stage for testing the next models on this **reduced and optimized feature set**.\n",
        "Yet it is not correct to simply say that we increased the R^2 therefore improved our model really, now we will try using even less parameters:\n"
      ],
      "metadata": {
        "id": "wUp8ggJI0f5l"
      }
    },
    {
      "cell_type": "markdown",
      "source": [
        "---\n",
        "#### Further Feature Selection: Removing `Arrivals` and `Departures`\n",
        "\n",
        "To further refine the feature set, we will remove the **Arrivals** and **Departures** features.  \n",
        "These columns represent the number of incoming and outgoing transfers for a team in a season.\n",
        "\n",
        "However, their direct impact on next season's performance can be **redundant or weak** compared to financial and performance-based features (like Expenditure, Income, Wins, Goals scored, etc.).\n",
        "\n",
        "By removing them, we aim to:\n",
        "\n",
        "- Focus on core financial and performance metrics  \n",
        "- Simplify the feature set even more  \n",
        "- Check if removing them has any effect (positive or neutral) on the model’s predictive power\n",
        "\n",
        "Let’s see how this more streamlined feature set performs in Linear Regression:\n"
      ],
      "metadata": {
        "id": "StIT5u-c1NPq"
      }
    },
    {
      "cell_type": "code",
      "source": [
        "#  Remove additional features: 'Arrivals' and 'Departures'\n",
        "drop_columns = [\"Year\", \"Club\", \"Next_Season_Points\", \"Balance\", \"+/-\", \"Arrivals\", \"Departures\"]\n",
        "X_reduced_2 = df.drop(columns=drop_columns)\n",
        "y = df[\"Next_Season_Points\"]\n",
        "\n",
        "#  Train-test split\n",
        "X_train, X_test, y_train, y_test = train_test_split(\n",
        "    X_reduced_2, y, test_size=0.2, random_state=42\n",
        ")\n",
        "\n",
        "# - Standardize\n",
        "scaler = StandardScaler()\n",
        "X_train_scaled = scaler.fit_transform(X_train)\n",
        "X_test_scaled = scaler.transform(X_test)\n",
        "\n",
        "# - Linear Regression (with further reduced features)\n",
        "lr = LinearRegression()\n",
        "lr.fit(X_train_scaled, y_train)\n",
        "y_pred_lr = lr.predict(X_test_scaled)\n",
        "\n",
        "r2_lr = r2_score(y_test, y_pred_lr)\n",
        "mse_lr = mean_squared_error(y_test, y_pred_lr)\n",
        "rmse_lr = np.sqrt(mse_lr)\n",
        "\n",
        "print(\" Linear Regression Performance (Further Reduced Features):\")\n",
        "print(f\"R² Score : {r2_lr:.4f}\")\n",
        "print(f\"MSE      : {mse_lr:.2f}\")\n",
        "print(f\"RMSE     : {rmse_lr:.2f}\")\n"
      ],
      "metadata": {
        "colab": {
          "base_uri": "https://localhost:8080/"
        },
        "id": "BOm9kcn71QnG",
        "outputId": "f1e43665-ce68-43e4-abe1-a1d3b10fc324"
      },
      "execution_count": null,
      "outputs": [
        {
          "output_type": "stream",
          "name": "stdout",
          "text": [
            "🔍 Linear Regression Performance (Further Reduced Features):\n",
            "R² Score : 0.7658\n",
            "MSE      : 84.12\n",
            "RMSE     : 9.17\n"
          ]
        }
      ]
    },
    {
      "cell_type": "markdown",
      "source": [
        "####  Linear Regression Evaluation (After Removing `Arrivals` and `Departures`)\n",
        "\n",
        "With the removal of the **Arrivals** and **Departures** features, the **Linear Regression** model achieved an **R² score of 0.7658**, a slight improvement over the previous score of 0.7558.\n",
        "\n",
        "This means that now **76.58% of the variance** in next season's points can be explained by the remaining features, suggesting that **Arrivals** and **Departures** were not adding meaningful predictive power.\n",
        "\n",
        "The model's average prediction error (RMSE) also improved to **9.17 points**, indicating a little bit more precise predictions.\n",
        "\n",
        "In summary, removing these features:\n",
        "\n",
        "- Reduced redundancy  \n",
        "- Improved model accuracy and predictive power  \n",
        "- Simplified the dataset for clearer insights\n",
        "\n",
        "We’re now ready to evaluate the other models (KNN, Decision Tree, Random Forest, XGBoost) on this optimized feature set!\n"
      ],
      "metadata": {
        "id": "uSvyH0fg1azt"
      }
    },
    {
      "cell_type": "code",
      "source": [
        "import matplotlib.pyplot as plt\n",
        "\n",
        "#  Scatter Plot: Actual vs Predicted\n",
        "plt.figure(figsize=(6, 6))\n",
        "plt.scatter(y_test, y_pred_lr, alpha=0.6, edgecolors='k')\n",
        "plt.plot([y_test.min(), y_test.max()], [y_test.min(), y_test.max()], 'r--')  # 45° line\n",
        "plt.xlabel(\"Actual Next Season Points\")\n",
        "plt.ylabel(\"Predicted Next Season Points\")\n",
        "plt.title(\"Linear Regression: Actual vs Predicted\")\n",
        "plt.grid(True)\n",
        "plt.show()\n",
        "\n",
        "#  Residual Plot\n",
        "residuals_lr = y_pred_lr - y_test\n",
        "plt.figure(figsize=(6, 4))\n",
        "plt.scatter(y_test, residuals_lr, alpha=0.6, edgecolors='k')\n",
        "plt.axhline(y=0, color='r', linestyle='--')\n",
        "plt.xlabel(\"Actual Next Season Points\")\n",
        "plt.ylabel(\"Residuals (Prediction Error)\")\n",
        "plt.title(\"Linear Regression: Residuals Plot\")\n",
        "plt.grid(True)\n",
        "plt.show()\n"
      ],
      "metadata": {
        "colab": {
          "base_uri": "https://localhost:8080/",
          "height": 957
        },
        "id": "y1XFZgNh5RIX",
        "outputId": "db2cee31-94ab-46d8-b197-0905229391e2"
      },
      "execution_count": null,
      "outputs": [
        {
          "output_type": "display_data",
          "data": {
            "text/plain": [
              "<Figure size 600x600 with 1 Axes>"
            ],
            "image/png": "[encoded data removed]"
          },
          "metadata": {}
        },
        {
          "output_type": "display_data",
          "data": {
            "text/plain": [
              "<Figure size 600x400 with 1 Axes>"
            ],
            "image/png": "[encoded data removed]"
          },
          "metadata": {}
        }
      ]
    },
    {
      "cell_type": "markdown",
      "source": [
        "### 3.2 K-Nearest Neighbors (KNN) Regressor\n",
        "\n",
        "Now, let’s apply the **K-Nearest Neighbors (KNN)** regression model to our optimized dataset.\n",
        "\n",
        "This model predicts the target value based on the **average of the k-nearest data points** in the feature space.  \n",
        "It’s a **non-parametric approach** that can capture local patterns and non-linear relationships.\n",
        "\n",
        "For this experiment, we will start with **k=5**, a common choice to balance overfitting and underfitting.  \n",
        "If needed, we can later tune **k** to find the value that minimizes the prediction error.\n",
        "\n",
        "Let’s see how it performs!\n"
      ],
      "metadata": {
        "id": "cz6ksocWuPPv"
      }
    },
    {
      "cell_type": "code",
      "source": [
        "#  K-Nearest Neighbors Regressor (k=5)\n",
        "from sklearn.neighbors import KNeighborsRegressor\n",
        "from sklearn.metrics import r2_score, mean_squared_error\n",
        "import numpy as np\n",
        "\n",
        "# Initialize KNN model with k=5\n",
        "knn = KNeighborsRegressor(n_neighbors=5)\n",
        "\n",
        "# Train the model\n",
        "knn.fit(X_train_scaled, y_train)\n",
        "\n",
        "# Predict on the test set\n",
        "y_pred_knn = knn.predict(X_test_scaled)\n",
        "\n",
        "# Calculate metrics\n",
        "r2_knn = r2_score(y_test, y_pred_knn)\n",
        "mse_knn = mean_squared_error(y_test, y_pred_knn)\n",
        "rmse_knn = np.sqrt(mse_knn)\n",
        "\n",
        "print(\" KNN Regressor Performance (k=5):\")\n",
        "print(f\"R² Score : {r2_knn:.4f}\")\n",
        "print(f\"MSE      : {mse_knn:.2f}\")\n",
        "print(f\"RMSE     : {rmse_knn:.2f}\")\n"
      ],
      "metadata": {
        "colab": {
          "base_uri": "https://localhost:8080/"
        },
        "id": "6ExKwL_JuWfd",
        "outputId": "85ac6ea1-df8f-4bb4-bcc4-d4f948090437"
      },
      "execution_count": null,
      "outputs": [
        {
          "output_type": "stream",
          "name": "stdout",
          "text": [
            "🔍 KNN Regressor Performance (k=5):\n",
            "R² Score : 0.6827\n",
            "MSE      : 113.95\n",
            "RMSE     : 10.67\n"
          ]
        }
      ]
    },
    {
      "cell_type": "markdown",
      "source": [
        "####  KNN Regressor Evaluation (while k=5)\n",
        "\n",
        "The **KNN Regressor** with **k=5** achieved an **R² score of 0.6827**.  \n",
        "This means that around **68.27% of the variance** in next season's points is explained by considering the **5 closest team-season data points**.\n",
        "\n",
        "The **average prediction error (RMSE)** came out to be **10.67 points**.  \n",
        "Although this is a bit higher than Linear Regression, it’s still a decent result for a simple, intuitive method.\n",
        "\n",
        "It’s clear that while KNN can capture some local patterns, it may not be as effective as Linear Regression for this dataset.  \n",
        "Let’s experiment with different **k** values to see if we can push the performance a bit further:\n",
        "\n",
        "---\n"
      ],
      "metadata": {
        "id": "vebXwYJ3uctu"
      }
    },
    {
      "cell_type": "code",
      "source": [
        "#  Testing a broader range of k values for KNN\n",
        "k_values = [3, 5, 7, 10, 15, 20, 25, 30]\n",
        "for k in k_values:\n",
        "    knn = KNeighborsRegressor(n_neighbors=k)\n",
        "    knn.fit(X_train_scaled, y_train)\n",
        "    y_pred_knn = knn.predict(X_test_scaled)\n",
        "\n",
        "    r2_knn = r2_score(y_test, y_pred_knn)\n",
        "    mse_knn = mean_squared_error(y_test, y_pred_knn)\n",
        "    rmse_knn = np.sqrt(mse_knn)\n",
        "\n",
        "    print(f\"\\n KNN Regressor Performance (k={k}):\")\n",
        "    print(f\"R² Score : {r2_knn:.4f}\")\n",
        "    print(f\"MSE      : {mse_knn:.2f}\")\n",
        "    print(f\"RMSE     : {rmse_knn:.2f}\")\n"
      ],
      "metadata": {
        "colab": {
          "base_uri": "https://localhost:8080/"
        },
        "id": "oTX6ak5k2kvh",
        "outputId": "10bbd9e1-0b26-403d-86f0-9fb05b14c320"
      },
      "execution_count": null,
      "outputs": [
        {
          "output_type": "stream",
          "name": "stdout",
          "text": [
            "\n",
            "🔍 KNN Regressor Performance (k=3):\n",
            "R² Score : 0.5466\n",
            "MSE      : 162.84\n",
            "RMSE     : 12.76\n",
            "\n",
            "🔍 KNN Regressor Performance (k=5):\n",
            "R² Score : 0.6827\n",
            "MSE      : 113.95\n",
            "RMSE     : 10.67\n",
            "\n",
            "🔍 KNN Regressor Performance (k=7):\n",
            "R² Score : 0.7201\n",
            "MSE      : 100.51\n",
            "RMSE     : 10.03\n",
            "\n",
            "🔍 KNN Regressor Performance (k=10):\n",
            "R² Score : 0.7265\n",
            "MSE      : 98.23\n",
            "RMSE     : 9.91\n",
            "\n",
            "🔍 KNN Regressor Performance (k=15):\n",
            "R² Score : 0.7398\n",
            "MSE      : 93.44\n",
            "RMSE     : 9.67\n",
            "\n",
            "🔍 KNN Regressor Performance (k=20):\n",
            "R² Score : 0.6963\n",
            "MSE      : 109.06\n",
            "RMSE     : 10.44\n",
            "\n",
            "🔍 KNN Regressor Performance (k=25):\n",
            "R² Score : 0.6917\n",
            "MSE      : 110.73\n",
            "RMSE     : 10.52\n",
            "\n",
            "🔍 KNN Regressor Performance (k=30):\n",
            "R² Score : 0.6697\n",
            "MSE      : 118.64\n",
            "RMSE     : 10.89\n"
          ]
        }
      ]
    },
    {
      "cell_type": "markdown",
      "source": [
        "####  KNN Regressor Evaluation and the Bias-Variance Balance\n",
        "\n",
        "We expanded our testing of different **k** values to understand how KNN’s performance changes and to see where underfitting or overfitting might occur:\n",
        "\n",
        "- **k=3**:  \n",
        "  - R²: **0.5466**  \n",
        "  - RMSE: **12.76** points  \n",
        "  With such a small k, the model is very sensitive to local noise, causing **overfitting** — it captures noise instead of general patterns.\n",
        "\n",
        "- **k=5, 7, 10**:  \n",
        "  - R² steadily improves up to **0.7265**, and RMSE drops to **9.91**.  \n",
        "  This range is a **good compromise**, reducing overfitting while still capturing meaningful local structures.\n",
        "\n",
        "- **k=15**:  \n",
        "  - R² peaks at **0.7398**, and RMSE drops to its lowest: **9.67**.  \n",
        "  This suggests that k=15 offers the **best balance** between capturing local detail and avoiding noise.\n",
        "\n",
        "- **k=20, 25, 30**:  \n",
        "  - R² drops again (down to **0.6697** at k=30), and RMSE increases.  \n",
        "  These larger k values cause **underfitting** — the model becomes too smooth and general, losing the ability to capture real local variations.\n",
        "\n",
        " **Conclusion:**  \n",
        "This test highlights the classic **bias-variance tradeoff**:  \n",
        "- **Low k (3)** → Low bias, high variance → **Overfitting**  \n",
        "- **Optimal k (15)** → Balanced bias and variance → **Best performance**  \n",
        "- **High k (30)** → High bias, low variance → **Underfitting**\n",
        "\n",
        "This analysis helps pinpoint that for this dataset, **k=15** provides the best generalization power. Let’s keep this in mind as we compare with other models!\n",
        "\n",
        "---\n"
      ],
      "metadata": {
        "id": "aDNV854E3NE7"
      }
    },
    {
      "cell_type": "code",
      "source": [
        "#  Scatter Plot: Actual vs Predicted\n",
        "plt.figure(figsize=(6, 6))\n",
        "plt.scatter(y_test, y_pred_knn, alpha=0.6, edgecolors='k', color='orange')\n",
        "plt.plot([y_test.min(), y_test.max()], [y_test.min(), y_test.max()], 'r--')  # 45° line\n",
        "plt.xlabel(\"Actual Next Season Points\")\n",
        "plt.ylabel(\"Predicted Next Season Points\")\n",
        "plt.title(\"KNN Regressor: Actual vs Predicted\")\n",
        "plt.grid(True)\n",
        "plt.show()\n",
        "\n",
        "#  Residual Plot\n",
        "residuals_knn = y_pred_knn - y_test\n",
        "plt.figure(figsize=(6, 4))\n",
        "plt.scatter(y_test, residuals_knn, alpha=0.6, edgecolors='k', color='orange')\n",
        "plt.axhline(y=0, color='r', linestyle='--')\n",
        "plt.xlabel(\"Actual Next Season Points\")\n",
        "plt.ylabel(\"Residuals (Prediction Error)\")\n",
        "plt.title(\"KNN Regressor: Residuals Plot\")\n",
        "plt.grid(True)\n",
        "plt.show()\n"
      ],
      "metadata": {
        "colab": {
          "base_uri": "https://localhost:8080/",
          "height": 957
        },
        "id": "4ZvT5gbb5X3H",
        "outputId": "dbbcb259-6337-4714-e24b-e96e8088ac05"
      },
      "execution_count": null,
      "outputs": [
        {
          "output_type": "display_data",
          "data": {
            "text/plain": [
              "<Figure size 600x600 with 1 Axes>"
            ],
            "image/png": "[encoded data removed]"
          },
          "metadata": {}
        },
        {
          "output_type": "display_data",
          "data": {
            "text/plain": [
              "<Figure size 600x400 with 1 Axes>"
            ],
            "image/png": "[encoded data removed]"
          },
          "metadata": {}
        }
      ]
    },
    {
      "cell_type": "markdown",
      "source": [
        "### 3.3 Decision Tree Regressor\n",
        "\n",
        "Now, we’ll test the **Decision Tree Regressor** on our optimized feature set.  \n",
        "This model works by **recursively splitting** the data based on feature values, forming a tree-like structure.\n",
        "\n",
        "It’s great at capturing **non-linear relationships** and **interactions** between features.  \n",
        "However, it can be prone to **overfitting** if we don’t control its complexity (like maximum depth or minimum samples per leaf).\n",
        "\n",
        "Let’s train the model using the default settings first and see how well it does!\n"
      ],
      "metadata": {
        "id": "EFB1NTsIundZ"
      }
    },
    {
      "cell_type": "code",
      "source": [
        "#  Decision Tree Regressor\n",
        "from sklearn.tree import DecisionTreeRegressor\n",
        "from sklearn.metrics import r2_score, mean_squared_error\n",
        "import numpy as np\n",
        "\n",
        "# Initialize the Decision Tree model\n",
        "dt = DecisionTreeRegressor(random_state=42)\n",
        "\n",
        "# Train the model\n",
        "dt.fit(X_train_scaled, y_train)\n",
        "\n",
        "# Predict on the test set\n",
        "y_pred_dt = dt.predict(X_test_scaled)\n",
        "\n",
        "# Calculate metrics\n",
        "r2_dt = r2_score(y_test, y_pred_dt)\n",
        "mse_dt = mean_squared_error(y_test, y_pred_dt)\n",
        "rmse_dt = np.sqrt(mse_dt)\n",
        "\n",
        "print(\" Decision Tree Regressor Performance:\")\n",
        "print(f\"R² Score : {r2_dt:.4f}\")\n",
        "print(f\"MSE      : {mse_dt:.2f}\")\n",
        "print(f\"RMSE     : {rmse_dt:.2f}\")\n"
      ],
      "metadata": {
        "colab": {
          "base_uri": "https://localhost:8080/"
        },
        "id": "XEmwZbxHusM9",
        "outputId": "049cdabc-4ed5-4704-f4e3-3ff1ba98be02"
      },
      "execution_count": null,
      "outputs": [
        {
          "output_type": "stream",
          "name": "stdout",
          "text": [
            "🔍 Decision Tree Regressor Performance:\n",
            "R² Score : 0.4049\n",
            "MSE      : 213.74\n",
            "RMSE     : 14.62\n"
          ]
        }
      ]
    },
    {
      "cell_type": "markdown",
      "source": [
        "####  Decision Tree Regressor Evaluation\n",
        "\n",
        "The Decision Tree Regressor had a low R² score of 0.4049 and high RMSE of 14.62, suggesting that it **overfit the training data** and did not generalize well to the test set.\n"
      ],
      "metadata": {
        "id": "ii5g8CkR3vd1"
      }
    },
    {
      "cell_type": "markdown",
      "source": [
        "---\n",
        "### 3.4 Random Forest Regressor\n",
        "\n",
        "Let’s now apply the **Random Forest Regressor** to our dataset.  \n",
        "Random Forest is an **ensemble** of decision trees, averaging their predictions to create a more stable and generalizable model.\n",
        "\n",
        "This approach helps to reduce **overfitting** compared to a single decision tree, as it uses multiple “views” of the data (bootstrapped samples and random feature selection).\n",
        "\n",
        "Let’s see how well it performs!\n"
      ],
      "metadata": {
        "id": "0Kh6ypNIu0My"
      }
    },
    {
      "cell_type": "code",
      "source": [
        "#  Random Forest Regressor\n",
        "from sklearn.ensemble import RandomForestRegressor\n",
        "from sklearn.metrics import r2_score, mean_squared_error\n",
        "import numpy as np\n",
        "\n",
        "# Initialize Random Forest model\n",
        "rf = RandomForestRegressor(n_estimators=100, random_state=42)\n",
        "\n",
        "# Train the model\n",
        "rf.fit(X_train_scaled, y_train)\n",
        "\n",
        "# Predict on the test set\n",
        "y_pred_rf = rf.predict(X_test_scaled)\n",
        "\n",
        "# Calculate metrics\n",
        "r2_rf = r2_score(y_test, y_pred_rf)\n",
        "mse_rf = mean_squared_error(y_test, y_pred_rf)\n",
        "rmse_rf = np.sqrt(mse_rf)\n",
        "\n",
        "print(\" Random Forest Regressor Performance:\")\n",
        "print(f\"R² Score : {r2_rf:.4f}\")\n",
        "print(f\"MSE      : {mse_rf:.2f}\")\n",
        "print(f\"RMSE     : {rmse_rf:.2f}\")\n"
      ],
      "metadata": {
        "colab": {
          "base_uri": "https://localhost:8080/"
        },
        "id": "siBdiMjS4DE2",
        "outputId": "25d7a12b-5d70-4836-88b2-2f3db2f61a7f"
      },
      "execution_count": null,
      "outputs": [
        {
          "output_type": "stream",
          "name": "stdout",
          "text": [
            "🔍 Random Forest Regressor Performance:\n",
            "R² Score : 0.7233\n",
            "MSE      : 99.37\n",
            "RMSE     : 9.97\n"
          ]
        }
      ]
    },
    {
      "cell_type": "markdown",
      "source": [
        "####  Random Forest Regressor Evaluation\n",
        "\n",
        "The **Random Forest Regressor** achieved an **R² score of 0.7233**, showing that it can explain about **72.33% of the variance** in next season's points.\n",
        "\n",
        "With an **RMSE of 9.97**, it delivers accurate predictions and clearly outperforms the single Decision Tree model.\n",
        "\n",
        "This demonstrates how combining many trees can effectively **reduce overfitting** and improve predictive power compared to a single tree.\n",
        "\n",
        "Next, we’ll see how **XGBoost** performs!\n"
      ],
      "metadata": {
        "id": "3fr6S1Ia4b6x"
      }
    },
    {
      "cell_type": "markdown",
      "source": [
        "###  XGBoost Regressor\n",
        "\n",
        "Finally, we’ll apply **XGBoost Regressor**, an advanced boosting technique that builds trees **sequentially**, with each new tree correcting the errors of the previous one.\n",
        "\n",
        "XGBoost is known for its **efficiency and strong performance**, especially in datasets with complex, non-linear relationships.\n",
        "\n",
        "Let’s see how well it does on our optimized feature set!\n"
      ],
      "metadata": {
        "id": "P-bawdcCu_ky"
      }
    },
    {
      "cell_type": "code",
      "source": [
        "#  XGBoost Regressor\n",
        "from xgboost import XGBRegressor\n",
        "from sklearn.metrics import r2_score, mean_squared_error\n",
        "import numpy as np\n",
        "\n",
        "# Initialize XGBoost Regressor\n",
        "xgb = XGBRegressor(n_estimators=100, random_state=42)\n",
        "\n",
        "# Train the model\n",
        "xgb.fit(X_train_scaled, y_train)\n",
        "\n",
        "# Predict on the test set\n",
        "y_pred_xgb = xgb.predict(X_test_scaled)\n",
        "\n",
        "# Calculate metrics\n",
        "r2_xgb = r2_score(y_test, y_pred_xgb)\n",
        "mse_xgb = mean_squared_error(y_test, y_pred_xgb)\n",
        "rmse_xgb = np.sqrt(mse_xgb)\n",
        "\n",
        "print(\" XGBoost Regressor Performance:\")\n",
        "print(f\"R² Score : {r2_xgb:.4f}\")\n",
        "print(f\"MSE      : {mse_xgb:.2f}\")\n",
        "print(f\"RMSE     : {rmse_xgb:.2f}\")\n"
      ],
      "metadata": {
        "colab": {
          "base_uri": "https://localhost:8080/"
        },
        "id": "IW4HSVbz4lh7",
        "outputId": "50841ae2-9012-45cc-8439-21724e3ed977"
      },
      "execution_count": null,
      "outputs": [
        {
          "output_type": "stream",
          "name": "stdout",
          "text": [
            "🔍 XGBoost Regressor Performance:\n",
            "R² Score : 0.4740\n",
            "MSE      : 188.89\n",
            "RMSE     : 13.74\n"
          ]
        }
      ]
    },
    {
      "cell_type": "markdown",
      "source": [
        "####  XGBoost Regressor Evaluation\n",
        "\n",
        "The **XGBoost Regressor** achieved an **R² score of 0.4740**, which is **lower than Random Forest** and even KNN in this case.\n",
        "\n",
        "The **RMSE of 13.74 points** shows that its predictions were less accurate than expected for this dataset.\n",
        "\n",
        "This suggests that XGBoost’s boosting strategy didn’t capture the relationships effectively here — possibly due to **overfitting** on the small dataset size or not enough parameter tuning.\n",
        "\n",
        "In this scenario, simpler ensemble methods like **Random Forest** or **KNN** performed better.\n"
      ],
      "metadata": {
        "id": "5iKk-iDl4sow"
      }
    },
    {
      "cell_type": "markdown",
      "source": [
        "---\n",
        "#### 4 Model Evaluation (for specific please check each models conclusion part)\n",
        "\n",
        "Among all models tested, **Linear Regression** and **Random Forest Regressor** performed the best, with R² scores above **0.72** and RMSE values below **10 points**.  \n",
        "**KNN** also did reasonably well at **k=15**, but had slightly lower R².  \n",
        "**Decision Tree** and **XGBoost** showed much weaker results, likely due to overfitting or data characteristics.  \n",
        "Overall, simpler models with regularization and ensembling (like Random Forest) provided the most balanced and accurate predictions.\n"
      ],
      "metadata": {
        "id": "NQUxhFTU46w4"
      }
    },
    {
      "cell_type": "markdown",
      "source": [
        "---\n",
        "### 5 Summary and Conclusion\n",
        "\n",
        "In this notebook, we walked through a complete machine learning workflow to predict **next season’s points** for football teams, using a dataset with performance and financial features.\n",
        "\n",
        "Here’s a quick summary of the key steps and findings:\n",
        "\n",
        "1 **Data Preparation**  \n",
        "- We carefully merged and cleaned the data, removing redundant or low-impact features like **Balance** and **+/-** to create a more focused feature set.\n",
        "\n",
        "2 **Linear Regression as Baseline**  \n",
        "- We started with Linear Regression using all features, and then optimized it by removing features with weak contributions.  \n",
        "- This process improved the **R² score** to **0.7658** and reduced the average prediction error (**RMSE**) to around **9.17 points**.\n",
        "\n",
        "3 **KNN Regression**  \n",
        "- We tested different values of **k** to balance bias and variance.  \n",
        "- **k=15** emerged as the sweet spot, giving a solid **R² of 0.7398**.\n",
        "\n",
        "4 **Decision Tree Regression**  \n",
        "- While it captured some patterns, it suffered from overfitting and had a much lower **R²**.\n",
        "\n",
        "5 **Random Forest Regression**  \n",
        "- This ensemble method outperformed Decision Trees by reducing overfitting.  \n",
        "- It delivered an **R² of 0.7233** and an **RMSE of 9.97**, matching Linear Regression’s accuracy.\n",
        "\n",
        "6 **XGBoost Regression**  \n",
        "- Despite its advanced boosting technique, XGBoost underperformed in this scenario (possibly due to data size or overfitting).  \n",
        "- It had an **R² of 0.4740**.\n",
        "\n",
        " **Final Insights**  \n",
        "- Overall, **Linear Regression** and **Random Forest Regressor** emerged as the top models, each explaining over **72%** of the variance in the data.  \n",
        "- These results show that sometimes simpler models with good feature selection and ensembling can **outperform more complex models** in real-world data scenarios.\n",
        "\n",
        "This structured approach – from data cleaning, feature engineering, model selection to final evaluation – highlights the power of **careful feature selection and model comparison** in building robust predictions. Let’s keep these insights in mind for future data science projects!\n"
      ],
      "metadata": {
        "id": "9rcg0J7Z6sfv"
      }
    }
  ]
}